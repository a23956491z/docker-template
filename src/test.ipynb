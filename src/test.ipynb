{
 "cells": [
  {
   "cell_type": "code",
   "execution_count": 5,
   "outputs": [],
   "source": [
    "import tensorflow as tf\n",
    "import seaborn as sns\n",
    "import matplotlib.pyplot as plt\n"
   ],
   "metadata": {
    "collapsed": false,
    "pycharm": {
     "name": "#%%\n"
    }
   }
  },
  {
   "cell_type": "code",
   "execution_count": 3,
   "outputs": [
    {
     "name": "stdout",
     "output_type": "stream",
     "text": [
      "root\r\n"
     ]
    }
   ],
   "source": [
    "!echo $(whoami)\n"
   ],
   "metadata": {
    "collapsed": false,
    "pycharm": {
     "name": "#%%\n"
    }
   }
  },
  {
   "cell_type": "code",
   "execution_count": 4,
   "outputs": [
    {
     "name": "stdout",
     "output_type": "stream",
     "text": [
      "Collecting seaborn\r\n",
      "  Downloading seaborn-0.11.2-py3-none-any.whl (292 kB)\r\n",
      "\u001B[K     |████████████████████████████████| 292 kB 356 kB/s eta 0:00:01\r\n",
      "\u001B[?25hRequirement already satisfied: matplotlib>=2.2 in /usr/local/lib/python3.8/dist-packages (from seaborn) (3.4.3)\r\n",
      "Requirement already satisfied: pandas>=0.23 in /usr/local/lib/python3.8/dist-packages (from seaborn) (1.3.5)\r\n",
      "Requirement already satisfied: scipy>=1.0 in /usr/local/lib/python3.8/dist-packages (from seaborn) (1.7.3)\r\n",
      "Requirement already satisfied: numpy>=1.15 in /usr/local/lib/python3.8/dist-packages (from seaborn) (1.21.3)\r\n",
      "Requirement already satisfied: cycler>=0.10 in /usr/local/lib/python3.8/dist-packages (from matplotlib>=2.2->seaborn) (0.11.0)\r\n",
      "Requirement already satisfied: pillow>=6.2.0 in /usr/local/lib/python3.8/dist-packages (from matplotlib>=2.2->seaborn) (8.4.0)\r\n",
      "Requirement already satisfied: python-dateutil>=2.7 in /usr/local/lib/python3.8/dist-packages (from matplotlib>=2.2->seaborn) (2.8.2)\r\n",
      "Requirement already satisfied: kiwisolver>=1.0.1 in /usr/local/lib/python3.8/dist-packages (from matplotlib>=2.2->seaborn) (1.3.2)\r\n",
      "Requirement already satisfied: pyparsing>=2.2.1 in /usr/local/lib/python3.8/dist-packages (from matplotlib>=2.2->seaborn) (2.4.7)\r\n",
      "Requirement already satisfied: pytz>=2017.3 in /usr/local/lib/python3.8/dist-packages (from pandas>=0.23->seaborn) (2021.3)\r\n",
      "Requirement already satisfied: six>=1.5 in /usr/lib/python3/dist-packages (from python-dateutil>=2.7->matplotlib>=2.2->seaborn) (1.14.0)\r\n",
      "Installing collected packages: seaborn\r\n",
      "Successfully installed seaborn-0.11.2\r\n",
      "\u001B[33mWARNING: You are using pip version 20.2.4; however, version 21.3.1 is available.\r\n",
      "You should consider upgrading via the '/usr/bin/python3 -m pip install --upgrade pip' command.\u001B[0m\r\n"
     ]
    }
   ],
   "source": [
    "!pip install seaborn"
   ],
   "metadata": {
    "collapsed": false,
    "pycharm": {
     "name": "#%%\n"
    }
   }
  },
  {
   "cell_type": "code",
   "execution_count": 33,
   "outputs": [
    {
     "name": "stdout",
     "output_type": "stream",
     "text": [
      "Package                      Version\r\n",
      "---------------------------- --------------------\r\n",
      "absl-py                      0.15.0\r\n",
      "argon2-cffi                  21.1.0\r\n",
      "astunparse                   1.6.3\r\n",
      "attrs                        21.2.0\r\n",
      "backcall                     0.2.0\r\n",
      "bleach                       4.1.0\r\n",
      "cachetools                   4.2.4\r\n",
      "certifi                      2019.11.28\r\n",
      "cffi                         1.15.0\r\n",
      "chardet                      3.0.4\r\n",
      "cycler                       0.11.0\r\n",
      "dbus-python                  1.2.16\r\n",
      "debugpy                      1.5.1\r\n",
      "decorator                    5.1.0\r\n",
      "defusedxml                   0.7.1\r\n",
      "entrypoints                  0.3\r\n",
      "flatbuffers                  2.0\r\n",
      "gast                         0.4.0\r\n",
      "google-auth                  2.3.3\r\n",
      "google-auth-oauthlib         0.4.6\r\n",
      "google-pasta                 0.2.0\r\n",
      "grpcio                       1.41.1\r\n",
      "h5py                         3.5.0\r\n",
      "idna                         2.8\r\n",
      "importlib-resources          5.4.0\r\n",
      "ipykernel                    5.1.1\r\n",
      "ipython                      7.29.0\r\n",
      "ipython-genutils             0.2.0\r\n",
      "ipywidgets                   7.6.5\r\n",
      "jedi                         0.17.2\r\n",
      "Jinja2                       3.0.2\r\n",
      "jsonschema                   4.2.0\r\n",
      "jupyter                      1.0.0\r\n",
      "jupyter-client               7.0.6\r\n",
      "jupyter-console              6.4.0\r\n",
      "jupyter-core                 4.9.1\r\n",
      "jupyter-http-over-ws         0.0.8\r\n",
      "jupyterlab-pygments          0.1.2\r\n",
      "jupyterlab-widgets           1.0.2\r\n",
      "keras                        2.7.0\r\n",
      "Keras-Preprocessing          1.1.2\r\n",
      "kiwisolver                   1.3.2\r\n",
      "libclang                     12.0.0\r\n",
      "Markdown                     3.3.4\r\n",
      "MarkupSafe                   2.0.1\r\n",
      "matplotlib                   3.4.3\r\n",
      "matplotlib-inline            0.1.3\r\n",
      "mistune                      0.8.4\r\n",
      "nbclient                     0.5.4\r\n",
      "nbconvert                    6.2.0\r\n",
      "nbformat                     4.4.0\r\n",
      "nest-asyncio                 1.5.1\r\n",
      "notebook                     6.4.5\r\n",
      "numpy                        1.21.3\r\n",
      "oauthlib                     3.1.1\r\n",
      "opt-einsum                   3.3.0\r\n",
      "packaging                    21.2\r\n",
      "pandas                       1.3.5\r\n",
      "pandocfilters                1.5.0\r\n",
      "parso                        0.7.1\r\n",
      "pexpect                      4.8.0\r\n",
      "pickleshare                  0.7.5\r\n",
      "Pillow                       8.4.0\r\n",
      "pip                          20.2.4\r\n",
      "prometheus-client            0.12.0\r\n",
      "prompt-toolkit               3.0.22\r\n",
      "protobuf                     3.19.1\r\n",
      "ptyprocess                   0.7.0\r\n",
      "pyasn1                       0.4.8\r\n",
      "pyasn1-modules               0.2.8\r\n",
      "pycparser                    2.20\r\n",
      "Pygments                     2.10.0\r\n",
      "PyGObject                    3.36.0\r\n",
      "pyparsing                    2.4.7\r\n",
      "pyrsistent                   0.18.0\r\n",
      "python-apt                   2.0.0+ubuntu0.20.4.6\r\n",
      "python-dateutil              2.8.2\r\n",
      "pytz                         2021.3\r\n",
      "pyzmq                        22.3.0\r\n",
      "qtconsole                    5.1.1\r\n",
      "QtPy                         1.11.2\r\n",
      "requests                     2.22.0\r\n",
      "requests-oauthlib            1.3.0\r\n",
      "requests-unixsocket          0.2.0\r\n",
      "rsa                          4.7.2\r\n",
      "scipy                        1.7.3\r\n",
      "seaborn                      0.11.2\r\n",
      "Send2Trash                   1.8.0\r\n",
      "setuptools                   58.5.2\r\n",
      "six                          1.14.0\r\n",
      "tensorboard                  2.7.0\r\n",
      "tensorboard-data-server      0.6.1\r\n",
      "tensorboard-plugin-wit       1.8.0\r\n",
      "tensorflow                   2.7.0\r\n",
      "tensorflow-estimator         2.7.0\r\n",
      "tensorflow-io-gcs-filesystem 0.21.0\r\n",
      "termcolor                    1.1.0\r\n",
      "terminado                    0.12.1\r\n",
      "testpath                     0.5.0\r\n",
      "tornado                      6.1\r\n",
      "tqdm                         4.62.3\r\n",
      "traitlets                    5.1.1\r\n",
      "typing-extensions            3.10.0.2\r\n",
      "urllib3                      1.25.8\r\n",
      "wcwidth                      0.2.5\r\n",
      "webencodings                 0.5.1\r\n",
      "Werkzeug                     2.0.2\r\n",
      "wheel                        0.34.2\r\n",
      "widgetsnbextension           3.5.2\r\n",
      "wrapt                        1.13.3\r\n",
      "zipp                         3.6.0\r\n",
      "\u001B[33mWARNING: You are using pip version 20.2.4; however, version 21.3.1 is available.\r\n",
      "You should consider upgrading via the '/usr/bin/python3 -m pip install --upgrade pip' command.\u001B[0m\r\n"
     ]
    }
   ],
   "source": [
    "!pip list"
   ],
   "metadata": {
    "collapsed": false,
    "pycharm": {
     "name": "#%%\n"
    }
   }
  },
  {
   "cell_type": "markdown",
   "source": [
    "## Test Tensorflow"
   ],
   "metadata": {
    "collapsed": false,
    "pycharm": {
     "name": "#%% md\n"
    }
   }
  },
  {
   "cell_type": "code",
   "execution_count": 34,
   "outputs": [
    {
     "name": "stdout",
     "output_type": "stream",
     "text": [
      "Default GPU Device: /device:GPU:0\n"
     ]
    }
   ],
   "source": [
    "if tf.test.gpu_device_name():\n",
    "    print('Default GPU Device: {}'.format(tf.test.gpu_device_name()))\n",
    "else:\n",
    "    print(\"Please install GPU version of TF\")"
   ],
   "metadata": {
    "collapsed": false,
    "pycharm": {
     "name": "#%%\n"
    }
   }
  },
  {
   "cell_type": "code",
   "execution_count": 35,
   "outputs": [
    {
     "data": {
      "text/plain": "'2.7.0'"
     },
     "execution_count": 35,
     "metadata": {},
     "output_type": "execute_result"
    }
   ],
   "source": [
    "tf.__version__"
   ],
   "metadata": {
    "collapsed": false,
    "pycharm": {
     "name": "#%%\n"
    }
   }
  },
  {
   "cell_type": "markdown",
   "source": [
    "## Linux Command Examples"
   ],
   "metadata": {
    "collapsed": false,
    "pycharm": {
     "name": "#%% md\n"
    }
   }
  },
  {
   "cell_type": "code",
   "execution_count": null,
   "outputs": [],
   "source": [
    "!nvidia-smi"
   ],
   "metadata": {
    "collapsed": false,
    "pycharm": {
     "name": "#%%\n"
    }
   }
  },
  {
   "cell_type": "code",
   "execution_count": 37,
   "outputs": [
    {
     "name": "stdout",
     "output_type": "stream",
     "text": [
      "/workdir\r\n"
     ]
    }
   ],
   "source": [
    "!pwd"
   ],
   "metadata": {
    "collapsed": false,
    "pycharm": {
     "name": "#%%\n"
    }
   }
  },
  {
   "cell_type": "code",
   "execution_count": 38,
   "outputs": [
    {
     "name": "stdout",
     "output_type": "stream",
     "text": [
      "total 12\r\n",
      "drwxrwxr-x 3 1001 1001 4096 Jan 14 20:45 .\r\n",
      "drwxr-xr-x 1 root root 4096 Jan 20 06:00 ..\r\n",
      "drwxrwxr-x 4 1001 1001 4096 Jan 20 04:57 pytorch\r\n"
     ]
    }
   ],
   "source": [
    "!ls -al"
   ],
   "metadata": {
    "collapsed": false,
    "pycharm": {
     "name": "#%%\n"
    }
   }
  },
  {
   "cell_type": "markdown",
   "source": [
    "## Seaborn Visualize"
   ],
   "metadata": {
    "collapsed": false,
    "pycharm": {
     "name": "#%% md\n"
    }
   }
  },
  {
   "cell_type": "code",
   "execution_count": 6,
   "outputs": [
    {
     "data": {
      "text/plain": "<Figure size 600x600 with 4 Axes>",
      "image/png": "[encoded data removed]"
     },
     "metadata": {},
     "output_type": "display_data"
    }
   ],
   "source": [
    "sns.set_theme(style=\"ticks\")\n",
    "\n",
    "# Load the planets dataset and initialize the figure\n",
    "planets = sns.load_dataset(\"planets\")\n",
    "g = sns.JointGrid(data=planets, x=\"year\", y=\"distance\", marginal_ticks=True)\n",
    "\n",
    "# Set a log scaling on the y axis\n",
    "g.ax_joint.set(yscale=\"log\")\n",
    "\n",
    "# Create an inset legend for the histogram colorbar\n",
    "cax = g.figure.add_axes([.15, .55, .02, .2])\n",
    "\n",
    "# Add the joint and marginal histogram plots\n",
    "g.plot_joint(\n",
    "    sns.histplot, discrete=(True, False),\n",
    "    cmap=\"light:#03012d\", pmax=.8, cbar=True, cbar_ax=cax\n",
    ")\n",
    "g.plot_marginals(sns.histplot, element=\"step\", color=\"#03012d\")\n",
    "\n",
    "plt.show()"
   ],
   "metadata": {
    "collapsed": false,
    "pycharm": {
     "name": "#%%\n"
    }
   }
  }
 ],
 "metadata": {
  "kernelspec": {
   "display_name": "Python 3",
   "language": "python",
   "name": "python3"
  },
  "language_info": {
   "codemirror_mode": {
    "name": "ipython",
    "version": 2
   },
   "file_extension": ".py",
   "mimetype": "text/x-python",
   "name": "python",
   "nbconvert_exporter": "python",
   "pygments_lexer": "ipython2",
   "version": "2.7.6"
  }
 },
 "nbformat": 4,
 "nbformat_minor": 0
}